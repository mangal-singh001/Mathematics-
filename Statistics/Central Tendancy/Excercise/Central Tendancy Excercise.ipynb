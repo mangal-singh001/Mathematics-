{
 "cells": [
  {
   "cell_type": "code",
   "execution_count": 40,
   "id": "f3147945-8d8f-4689-971a-8a4f395ed5de",
   "metadata": {},
   "outputs": [],
   "source": [
    "import pandas as pd \n",
    "import numpy as np \n",
    "import matplotlib.pyplot as plt \n",
    "import seaborn as sns "
   ]
  },
  {
   "cell_type": "code",
   "execution_count": 27,
   "id": "e5cbd870",
   "metadata": {},
   "outputs": [],
   "source": [
    "data = pd.read_csv(r\"F:\\Data Science\\Maths\\Statistics\\Central Tendancy\\Excercise\\AB_NYC_2019.csv\")\n",
    "df = pd.DataFrame(data)"
   ]
  },
  {
   "cell_type": "code",
   "execution_count": 55,
   "id": "a38c25f1",
   "metadata": {},
   "outputs": [
    {
     "name": "stdout",
     "output_type": "stream",
     "text": [
      "             id                                               name   host_id  \\\n",
      "0          2539                 Clean & quiet apt home by the park      2787   \n",
      "1          2595                              Skylit Midtown Castle      2845   \n",
      "2          3647                THE VILLAGE OF HARLEM....NEW YORK !      4632   \n",
      "3          3831                    Cozy Entire Floor of Brownstone      4869   \n",
      "4          5022   Entire Apt: Spacious Studio/Loft by central park      7192   \n",
      "...         ...                                                ...       ...   \n",
      "48890  36484665    Charming one bedroom - newly renovated rowhouse   8232441   \n",
      "48891  36485057      Affordable room in Bushwick/East Williamsburg   6570630   \n",
      "48892  36485431            Sunny Studio at Historical Neighborhood  23492952   \n",
      "48893  36485609               43rd St. Time Square-cozy single bed  30985759   \n",
      "48894  36487245  Trendy duplex in the very heart of Hell's Kitchen  68119814   \n",
      "\n",
      "           host_name neighbourhood_group       neighbourhood  latitude  \\\n",
      "0               John            Brooklyn          Kensington  40.64749   \n",
      "1           Jennifer           Manhattan             Midtown  40.75362   \n",
      "2          Elisabeth           Manhattan              Harlem  40.80902   \n",
      "3        LisaRoxanne            Brooklyn        Clinton Hill  40.68514   \n",
      "4              Laura           Manhattan         East Harlem  40.79851   \n",
      "...              ...                 ...                 ...       ...   \n",
      "48890        Sabrina            Brooklyn  Bedford-Stuyvesant  40.67853   \n",
      "48891        Marisol            Brooklyn            Bushwick  40.70184   \n",
      "48892  Ilgar & Aysel           Manhattan              Harlem  40.81475   \n",
      "48893            Taz           Manhattan      Hell's Kitchen  40.75751   \n",
      "48894     Christophe           Manhattan      Hell's Kitchen  40.76404   \n",
      "\n",
      "       longitude        room_type  price  minimum_nights  number_of_reviews  \\\n",
      "0      -73.97237     Private room    149               1                  9   \n",
      "1      -73.98377  Entire home/apt    225               1                 45   \n",
      "2      -73.94190     Private room    150               3                  0   \n",
      "3      -73.95976  Entire home/apt     89               1                270   \n",
      "4      -73.94399  Entire home/apt     80              10                  9   \n",
      "...          ...              ...    ...             ...                ...   \n",
      "48890  -73.94995     Private room     70               2                  0   \n",
      "48891  -73.93317     Private room     40               4                  0   \n",
      "48892  -73.94867  Entire home/apt    115              10                  0   \n",
      "48893  -73.99112      Shared room     55               1                  0   \n",
      "48894  -73.98933     Private room     90               7                  0   \n",
      "\n",
      "      last_review  reviews_per_month  calculated_host_listings_count  \\\n",
      "0      2018-10-19               0.21                               6   \n",
      "1      2019-05-21               0.38                               2   \n",
      "2             NaN                NaN                               1   \n",
      "3      2019-07-05               4.64                               1   \n",
      "4      2018-11-19               0.10                               1   \n",
      "...           ...                ...                             ...   \n",
      "48890         NaN                NaN                               2   \n",
      "48891         NaN                NaN                               2   \n",
      "48892         NaN                NaN                               1   \n",
      "48893         NaN                NaN                               6   \n",
      "48894         NaN                NaN                               1   \n",
      "\n",
      "       availability_365  \n",
      "0                   365  \n",
      "1                   355  \n",
      "2                   365  \n",
      "3                   194  \n",
      "4                     0  \n",
      "...                 ...  \n",
      "48890                 9  \n",
      "48891                36  \n",
      "48892                27  \n",
      "48893                 2  \n",
      "48894                23  \n",
      "\n",
      "[48895 rows x 16 columns]\n"
     ]
    }
   ],
   "source": [
    "print(df)"
   ]
  },
  {
   "cell_type": "code",
   "execution_count": 56,
   "id": "a3d6e2d1",
   "metadata": {},
   "outputs": [
    {
     "data": {
      "text/plain": [
       "count    48895.000000\n",
       "mean       152.720687\n",
       "std        240.154170\n",
       "min          0.000000\n",
       "25%         69.000000\n",
       "50%        106.000000\n",
       "75%        175.000000\n",
       "max      10000.000000\n",
       "Name: price, dtype: float64"
      ]
     },
     "execution_count": 56,
     "metadata": {},
     "output_type": "execute_result"
    }
   ],
   "source": [
    "df['price'].describe()"
   ]
  },
  {
   "cell_type": "code",
   "execution_count": 57,
   "id": "2dfd74a5",
   "metadata": {},
   "outputs": [
    {
     "name": "stdout",
     "output_type": "stream",
     "text": [
      "0        149\n",
      "1        225\n",
      "2        150\n",
      "3         89\n",
      "4         80\n",
      "        ... \n",
      "48890     70\n",
      "48891     40\n",
      "48892    115\n",
      "48893     55\n",
      "48894     90\n",
      "Name: price, Length: 48895, dtype: int64\n"
     ]
    }
   ],
   "source": [
    "print(df['price'])"
   ]
  },
  {
   "cell_type": "code",
   "execution_count": 58,
   "id": "0e01394b",
   "metadata": {},
   "outputs": [],
   "source": [
    "lower_limit = df['price'].quantile(0.01)\n",
    "higher_limit = df['price'].quantile(0.999)"
   ]
  },
  {
   "cell_type": "code",
   "execution_count": 59,
   "id": "5d7f1c12",
   "metadata": {},
   "outputs": [
    {
     "data": {
      "text/plain": [
       "30.0"
      ]
     },
     "execution_count": 59,
     "metadata": {},
     "output_type": "execute_result"
    }
   ],
   "source": [
    "lower_limit"
   ]
  },
  {
   "cell_type": "code",
   "execution_count": 60,
   "id": "31e588fd",
   "metadata": {},
   "outputs": [
    {
     "data": {
      "text/plain": [
       "3000.0"
      ]
     },
     "execution_count": 60,
     "metadata": {},
     "output_type": "execute_result"
    }
   ],
   "source": [
    "higher_limit"
   ]
  },
  {
   "cell_type": "code",
   "execution_count": 61,
   "id": "2aa3a651",
   "metadata": {},
   "outputs": [],
   "source": [
    "df_clean = df[(df['price'] >= lower_limit) & (df['price'] <= higher_limit)]"
   ]
  },
  {
   "cell_type": "code",
   "execution_count": 62,
   "id": "5f8502e7",
   "metadata": {},
   "outputs": [
    {
     "data": {
      "text/plain": [
       "(48446, 16)"
      ]
     },
     "execution_count": 62,
     "metadata": {},
     "output_type": "execute_result"
    }
   ],
   "source": [
    "df_clean.shape"
   ]
  },
  {
   "cell_type": "code",
   "execution_count": 39,
   "id": "ed1b8e49",
   "metadata": {},
   "outputs": [
    {
     "data": {
      "text/plain": [
       "count    48446.000000\n",
       "mean       148.617698\n",
       "std        157.733917\n",
       "min         30.000000\n",
       "25%         70.000000\n",
       "50%        109.000000\n",
       "75%        177.000000\n",
       "max       3000.000000\n",
       "Name: price, dtype: float64"
      ]
     },
     "execution_count": 39,
     "metadata": {},
     "output_type": "execute_result"
    }
   ],
   "source": [
    "df_clean['price'].describe()"
   ]
  },
  {
   "cell_type": "code",
   "execution_count": 63,
   "id": "1d251956",
   "metadata": {},
   "outputs": [
    {
     "data": {
      "text/plain": [
       "0        149\n",
       "1        225\n",
       "2        150\n",
       "3         89\n",
       "4         80\n",
       "        ... \n",
       "48890     70\n",
       "48891     40\n",
       "48892    115\n",
       "48893     55\n",
       "48894     90\n",
       "Name: price, Length: 48446, dtype: int64"
      ]
     },
     "execution_count": 63,
     "metadata": {},
     "output_type": "execute_result"
    }
   ],
   "source": [
    "df_clean['price']"
   ]
  },
  {
   "cell_type": "code",
   "execution_count": null,
   "id": "626ac141",
   "metadata": {},
   "outputs": [
    {
     "data": {
      "text/plain": [
       "(array([2.3708e+04, 1.2678e+04, 6.9090e+03, 2.1620e+03, 1.2710e+03,\n",
       "        3.9000e+02, 3.8700e+02, 2.1500e+02, 1.0000e+02, 1.6600e+02,\n",
       "        9.5000e+01, 5.9000e+01, 3.6000e+01, 8.4000e+01, 1.7000e+01,\n",
       "        2.2000e+01, 6.0000e+00, 1.1000e+01, 4.0000e+00, 3.2000e+01,\n",
       "        1.0000e+00, 6.0000e+00, 6.0000e+00, 9.0000e+00, 1.0000e+00,\n",
       "        2.0000e+00, 2.9000e+01, 2.0000e+00, 0.0000e+00, 3.0000e+00,\n",
       "        1.0000e+00, 2.0000e+00, 0.0000e+00, 1.2000e+01, 3.0000e+00,\n",
       "        1.0000e+00, 1.0000e+00, 2.0000e+00, 1.0000e+00, 1.2000e+01]),\n",
       " array([  30.  ,  104.25,  178.5 ,  252.75,  327.  ,  401.25,  475.5 ,\n",
       "         549.75,  624.  ,  698.25,  772.5 ,  846.75,  921.  ,  995.25,\n",
       "        1069.5 , 1143.75, 1218.  , 1292.25, 1366.5 , 1440.75, 1515.  ,\n",
       "        1589.25, 1663.5 , 1737.75, 1812.  , 1886.25, 1960.5 , 2034.75,\n",
       "        2109.  , 2183.25, 2257.5 , 2331.75, 2406.  , 2480.25, 2554.5 ,\n",
       "        2628.75, 2703.  , 2777.25, 2851.5 , 2925.75, 3000.  ]),\n",
       " <BarContainer object of 40 artists>)"
      ]
     },
     "execution_count": 43,
     "metadata": {},
     "output_type": "execute_result"
    },
    {
     "data": {
      "image/png": "[encoded data removed]",
      "text/plain": [
       "<Figure size 640x480 with 1 Axes>"
      ]
     },
     "metadata": {},
     "output_type": "display_data"
    }
   ],
   "source": [
    "plt.hist(df_clean['price'],bins=40)"
   ]
  },
  {
   "cell_type": "code",
   "execution_count": 51,
   "id": "b786c692",
   "metadata": {},
   "outputs": [
    {
     "data": {
      "text/plain": [
       "{'whiskers': [<matplotlib.lines.Line2D at 0x1e77370f4a0>,\n",
       "  <matplotlib.lines.Line2D at 0x1e77374b4d0>],\n",
       " 'caps': [<matplotlib.lines.Line2D at 0x1e77374b6b0>,\n",
       "  <matplotlib.lines.Line2D at 0x1e77374b9b0>],\n",
       " 'boxes': [<matplotlib.lines.Line2D at 0x1e772e82a50>],\n",
       " 'medians': [<matplotlib.lines.Line2D at 0x1e77374bcb0>],\n",
       " 'fliers': [<matplotlib.lines.Line2D at 0x1e77374bf50>],\n",
       " 'means': []}"
      ]
     },
     "execution_count": 51,
     "metadata": {},
     "output_type": "execute_result"
    },
    {
     "data": {
      "image/png": "[encoded data removed]",
      "text/plain": [
       "<Figure size 640x480 with 1 Axes>"
      ]
     },
     "metadata": {},
     "output_type": "display_data"
    }
   ],
   "source": [
    "plt.boxplot(df['price'])"
   ]
  },
  {
   "cell_type": "code",
   "execution_count": 54,
   "id": "1332f2b7",
   "metadata": {},
   "outputs": [
    {
     "data": {
      "text/plain": [
       "price\n",
       "False    48252\n",
       "True       194\n",
       "Name: count, dtype: int64"
      ]
     },
     "execution_count": 54,
     "metadata": {},
     "output_type": "execute_result"
    }
   ],
   "source": [
    "(df_clean['price'] > 1000).value_counts()"
   ]
  },
  {
   "cell_type": "code",
   "execution_count": null,
   "id": "5e84beeb",
   "metadata": {},
   "outputs": [],
   "source": []
  }
 ],
 "metadata": {
  "kernelspec": {
   "display_name": "base",
   "language": "python",
   "name": "python3"
  },
  "language_info": {
   "codemirror_mode": {
    "name": "ipython",
    "version": 3
   },
   "file_extension": ".py",
   "mimetype": "text/x-python",
   "name": "python",
   "nbconvert_exporter": "python",
   "pygments_lexer": "ipython3",
   "version": "3.12.7"
  }
 },
 "nbformat": 4,
 "nbformat_minor": 5
}
